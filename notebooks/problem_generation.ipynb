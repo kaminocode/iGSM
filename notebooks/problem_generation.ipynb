{
 "cells": [
  {
   "cell_type": "code",
   "execution_count": 22,
   "metadata": {},
   "outputs": [],
   "source": [
    "from igsm.dataset import igsmDataset"
   ]
  },
  {
   "cell_type": "code",
   "execution_count": 23,
   "metadata": {},
   "outputs": [],
   "source": [
    "dataset = igsmDataset()\n",
    "problems = dataset.generate(num_problems=1)"
   ]
  },
  {
   "cell_type": "code",
   "execution_count": 24,
   "metadata": {},
   "outputs": [
    {
     "name": "stdout",
     "output_type": "stream",
     "text": [
      "The number of Art Portfolio Bag in each Backpack is the product of the number of School Daypack in each Backpack and Messenger Bag in each Backpack. The number of Stapler in each Stationery is 12. The number of Messenger Bag in each Backpack is 1. The number of Oakwood Elementary in each School is 7. The number of Art Studio in each Classroom is the product of the number of Stapler in each Stationery and Messenger Bag in each Backpack and Oakwood Elementary in each School. The number of School Daypack in each Backpack is the difference between the number of Messenger Bag in each Backpack and the sum of Stapler in each Stationery. How many Art Portfolio Bag does Backpack have?\n",
      "Define Messenger Bag in each Backpack as a; so a = 1.\n",
      "Define Stapler in each Stationery as b; so b = 12.\n",
      "Define School Daypack in each Backpack as c; so c = 1 - (12) = 12.\n",
      "Define Art Portfolio Bag in each Backpack as d; so d = 12 * 1 = 12.\n",
      "Define Oakwood Elementary in each School as e; so e = 7.\n",
      "Define Art Studio in each Classroom as f; so f = 12 * 1 * 7 = 15.\n",
      "---\n"
     ]
    }
   ],
   "source": [
    "for problem in problems:\n",
    "    print(problem.statement)\n",
    "    print(problem.solution)\n",
    "    print(\"---\")"
   ]
  },
  {
   "cell_type": "code",
   "execution_count": null,
   "metadata": {},
   "outputs": [],
   "source": []
  },
  {
   "cell_type": "code",
   "execution_count": null,
   "metadata": {},
   "outputs": [],
   "source": []
  }
 ],
 "metadata": {
  "kernelspec": {
   "display_name": "igsm",
   "language": "python",
   "name": "python3"
  },
  "language_info": {
   "codemirror_mode": {
    "name": "ipython",
    "version": 3
   },
   "file_extension": ".py",
   "mimetype": "text/x-python",
   "name": "python",
   "nbconvert_exporter": "python",
   "pygments_lexer": "ipython3",
   "version": "3.12.0"
  }
 },
 "nbformat": 4,
 "nbformat_minor": 2
}
